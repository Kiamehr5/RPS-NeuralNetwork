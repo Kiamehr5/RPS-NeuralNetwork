{
  "nbformat": 4,
  "nbformat_minor": 0,
  "metadata": {
    "colab": {
      "provenance": []
    },
    "kernelspec": {
      "name": "python3",
      "display_name": "Python 3"
    },
    "language_info": {
      "name": "python"
    }
  },
  "cells": [
    {
      "cell_type": "code",
      "execution_count": 6,
      "metadata": {
        "id": "N7_SdSPLfnVg"
      },
      "outputs": [],
      "source": [
        "import torch\n",
        "import torch.nn as nn\n",
        "import torch.optim as optim\n",
        "import random"
      ]
    },
    {
      "cell_type": "code",
      "source": [
        "HISTORY_LEN = 5   # how many past moves the NN sees (so the way it works is by guessing what move to do based on your past moves)\n",
        "EPOCHS = 50       # Training epochs per update\n",
        "BLUFF_PROB = 0.15 # chance to bluff instead of best counter (bluff means random move so i can't figure the pattern out easily and beat it)"
      ],
      "metadata": {
        "id": "NL7AwkfXgPsu"
      },
      "execution_count": 7,
      "outputs": []
    },
    {
      "cell_type": "code",
      "source": [
        "move_to_idx = {\"R\": 0, \"P\": 1, \"S\": 2}\n",
        "idx_to_move = {0: \"R\", 1: \"P\", 2: \"S\"}"
      ],
      "metadata": {
        "id": "G6VEqewwgin-"
      },
      "execution_count": 8,
      "outputs": []
    },
    {
      "cell_type": "code",
      "source": [
        "#one-hot encoding means eg:\n",
        "#if we rep em as integers it will for eg dog = 2 and cat = 1 then the nn will think the dog is \"bigger\" than the cat\n",
        "#one-hot encoding makes it like: blue: [1, 0, 0], green: [0, 1, 0]... so the model classify's them correctly/so our data gets represented to our model correctly\n",
        "def encode_moves(moves):\n",
        "  vec = []\n",
        "  for m in moves:\n",
        "    one_hot = [0, 0, 0]\n",
        "    one_hot[move_to_idx[m]] = 1 #we set it to \"1\" bc now as mentioned we're classifying the \"Paper\" module for out model (eg if m=\"p\" move to idx becomes 1 and then onehot[1] = 1 is\n",
        "    #[0, 1, 0]\n",
        "    vec.extend(one_hot) #we're just adding one_hot to vec bc one_hot is going to change but we need a stable var that keeps the org variables (this one adds them it doesn't replace)\n",
        "  return vec\n"
      ],
      "metadata": {
        "id": "6gWUa43WhNYX"
      },
      "execution_count": 9,
      "outputs": []
    },
    {
      "cell_type": "code",
      "source": [
        "#ai architecture\n",
        "class RPSNetwork(nn.Module):\n",
        "  def __init__(self):\n",
        "    super().__init__() #initilize\n",
        "    self.fc1 = nn.Linear(HISTORY_LEN * 3, 32) #history_len * 3 bc we're flattening it bc the model expects a single list, not 5 lists (& also 32 neurons for input)\n",
        "    self.fc2 = nn.Linear(32, 16) #input 32, neurons 16 (hidden layer)\n",
        "    self.fc3 = nn.Linear(16, 3) #input 16, 3 neurons (for R, P, S)\n",
        "  def forward(self, x): #forward propagation (non-linear activation)\n",
        "    x = torch.relu(self.fc1(x))\n",
        "    x = torch.relu(self.fc2(x))\n",
        "    return self.fc3(x)\n",
        "    #ReLu is basically if x>=0 x=x else 0\n",
        "    #helps detect patterns like “if this move was played 3 steps ago and that move 1 step ago, predict…\""
      ],
      "metadata": {
        "id": "Q60S7Z_8lB3Y"
      },
      "execution_count": 10,
      "outputs": []
    },
    {
      "cell_type": "code",
      "source": [
        "#main function\n",
        "history = []\n",
        "X_train, y_train = [], []\n",
        "net = RPSNetwork()\n",
        "loss_fn = nn.CrossEntropyLoss()\n",
        "optimizer = optim.Adam(net.parameters(), lr = 0.01) #lr is learning rate\n",
        "\n",
        "print(\"Enter R, P, or S. Ctrl+C to quit.\")\n",
        "try:\n",
        "    while True:\n",
        "        player_move = input(\"Your move: \").upper().strip()\n",
        "        if player_move not in move_to_idx:\n",
        "            print(\"Invalid move.\")\n",
        "            continue\n",
        "\n",
        "        # store history and training example\n",
        "        if len(history) >= HISTORY_LEN:\n",
        "            X_train.append(encode_moves(history[-HISTORY_LEN:]))\n",
        "            y_train.append(move_to_idx[player_move])\n",
        "\n",
        "            # Train NN on collected data\n",
        "            X_tensor = torch.tensor(X_train, dtype=torch.float32)\n",
        "            y_tensor = torch.tensor(y_train, dtype=torch.long)\n",
        "            for _ in range(EPOCHS):\n",
        "                optimizer.zero_grad() #reset gradients\n",
        "                outputs = net(X_tensor)\n",
        "                loss = loss_fn(outputs, y_tensor)\n",
        "                loss.backward()\n",
        "                optimizer.step()\n",
        "\n",
        "            # Predict your next move\n",
        "            with torch.no_grad():\n",
        "                inp = torch.tensor([encode_moves(history[-HISTORY_LEN:])], dtype=torch.float32)\n",
        "                pred = net(inp)\n",
        "                predicted_move = int(torch.argmax(pred).item())\n",
        "\n",
        "            # Decide AI's move (counter or bluff)\n",
        "            counters = {0: 1, 1: 2, 2: 0}  # R->P, P->S, S->R\n",
        "            if random.random() < BLUFF_PROB:\n",
        "                ai_move = random.choice([0, 1, 2])  # bluff\n",
        "            else:\n",
        "                ai_move = counters[predicted_move]\n",
        "\n",
        "        else:\n",
        "            ai_move = random.choice([0, 1, 2])  # Not enough history yet\n",
        "\n",
        "        print(f\"AI plays: {idx_to_move[ai_move]}\")\n",
        "        history.append(player_move)\n",
        "\n",
        "except KeyboardInterrupt:\n",
        "    print(\"\\nGame Over.\")"
      ],
      "metadata": {
        "colab": {
          "base_uri": "https://localhost:8080/"
        },
        "id": "aHUm9l1hqDaP",
        "outputId": "f649cd8a-e60f-4836-97b5-8d61c2baa759"
      },
      "execution_count": 12,
      "outputs": [
        {
          "name": "stdout",
          "output_type": "stream",
          "text": [
            "Enter R, P, or S. Ctrl+C to quit.\n",
            "Your move: R\n",
            "AI plays: P\n",
            "Your move: R\n",
            "AI plays: P\n",
            "Your move: R\n",
            "AI plays: S\n",
            "Your move: P\n",
            "AI plays: R\n",
            "Your move: S\n",
            "AI plays: P\n",
            "Your move: R\n",
            "AI plays: P\n",
            "Your move: S\n",
            "AI plays: R\n",
            "Your move: S\n",
            "AI plays: R\n",
            "Your move: S\n",
            "AI plays: R\n",
            "Your move: P\n",
            "AI plays: S\n",
            "Your move: R\n",
            "AI plays: P\n",
            "Your move: R\n",
            "AI plays: P\n",
            "Your move: S\n",
            "AI plays: R\n",
            "Your move: S\n",
            "AI plays: R\n",
            "Your move: P\n",
            "AI plays: S\n",
            "Your move: R\n",
            "AI plays: S\n",
            "Your move: R\n",
            "AI plays: P\n",
            "Your move: P\n",
            "AI plays: S\n",
            "Your move: R\n",
            "AI plays: P\n",
            "Your move: R\n",
            "AI plays: P\n",
            "Your move: S\n",
            "AI plays: R\n",
            "Your move: P\n",
            "AI plays: S\n",
            "Your move: S\n",
            "AI plays: R\n",
            "Your move: S\n",
            "AI plays: R\n",
            "Your move: S\n",
            "AI plays: R\n",
            "Your move: S\n",
            "AI plays: R\n",
            "Your move: P\n",
            "AI plays: S\n",
            "Your move: R\n",
            "AI plays: P\n",
            "\n",
            "Game Over.\n",
            "Your move: R\n"
          ]
        }
      ]
    },
    {
      "cell_type": "code",
      "source": [
        "torch.save(net.state_dict(), \"rpsnn.pth\")\n",
        "from google.colab import files\n",
        "files.download(\"rpsnn.pth\") #for downloading the model"
      ],
      "metadata": {
        "colab": {
          "base_uri": "https://localhost:8080/",
          "height": 17
        },
        "id": "-aCb3p26t6Q2",
        "outputId": "e2501731-238f-44a5-c67f-227e790cf23d"
      },
      "execution_count": 14,
      "outputs": [
        {
          "output_type": "display_data",
          "data": {
            "text/plain": [
              "<IPython.core.display.Javascript object>"
            ],
            "application/javascript": [
              "\n",
              "    async function download(id, filename, size) {\n",
              "      if (!google.colab.kernel.accessAllowed) {\n",
              "        return;\n",
              "      }\n",
              "      const div = document.createElement('div');\n",
              "      const label = document.createElement('label');\n",
              "      label.textContent = `Downloading \"${filename}\": `;\n",
              "      div.appendChild(label);\n",
              "      const progress = document.createElement('progress');\n",
              "      progress.max = size;\n",
              "      div.appendChild(progress);\n",
              "      document.body.appendChild(div);\n",
              "\n",
              "      const buffers = [];\n",
              "      let downloaded = 0;\n",
              "\n",
              "      const channel = await google.colab.kernel.comms.open(id);\n",
              "      // Send a message to notify the kernel that we're ready.\n",
              "      channel.send({})\n",
              "\n",
              "      for await (const message of channel.messages) {\n",
              "        // Send a message to notify the kernel that we're ready.\n",
              "        channel.send({})\n",
              "        if (message.buffers) {\n",
              "          for (const buffer of message.buffers) {\n",
              "            buffers.push(buffer);\n",
              "            downloaded += buffer.byteLength;\n",
              "            progress.value = downloaded;\n",
              "          }\n",
              "        }\n",
              "      }\n",
              "      const blob = new Blob(buffers, {type: 'application/binary'});\n",
              "      const a = document.createElement('a');\n",
              "      a.href = window.URL.createObjectURL(blob);\n",
              "      a.download = filename;\n",
              "      div.appendChild(a);\n",
              "      a.click();\n",
              "      div.remove();\n",
              "    }\n",
              "  "
            ]
          },
          "metadata": {}
        },
        {
          "output_type": "display_data",
          "data": {
            "text/plain": [
              "<IPython.core.display.Javascript object>"
            ],
            "application/javascript": [
              "download(\"download_741c2730-fe31-4fc8-bd37-7645cacd4006\", \"rpsnn.pth\", 6580)"
            ]
          },
          "metadata": {}
        }
      ]
    }
  ]
}